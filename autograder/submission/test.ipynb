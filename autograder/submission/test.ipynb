{
 "cells": [
  {
   "cell_type": "markdown",
   "metadata": {
    "id": "mkw2HTlgc-mQ"
   },
   "source": [
    "Getting the collection of text\n"
   ]
  },
  {
   "cell_type": "code",
   "execution_count": 2,
   "metadata": {
    "colab": {
     "base_uri": "https://localhost:8080/"
    },
    "executionInfo": {
     "elapsed": 1885,
     "status": "ok",
     "timestamp": 1724270554147,
     "user": {
      "displayName": "James Allan",
      "userId": "17545913788389779782"
     },
     "user_tz": 240
    },
    "id": "7jnDYRymA-Lx",
    "outputId": "5a5c7045-1bc6-4dac-bd7e-9220be54528a"
   },
   "outputs": [
    {
     "name": "stdout",
     "output_type": "stream",
     "text": [
      "Found 10581 unique tokens\n",
      "Most frequent is [Ireland] with count [1324]\n"
     ]
    }
   ],
   "source": [
    "import gzip\n",
    "import re\n",
    "from typing import Counter\n",
    "\n",
    "\n",
    "class tokens:\n",
    "    def __init__(self, filename):\n",
    "        \"\"\"Iterate over tokens in the indicated file\n",
    "\n",
    "        Args:\n",
    "          filename: the name of the file to pull tokens from\n",
    "        \"\"\"\n",
    "        self.f = gzip.open(filename, \"rt\", encoding=\"utf-8\")\n",
    "        self.maxReturn = 50000\n",
    "\n",
    "    def __del__(self):\n",
    "        self.f.close()\n",
    "\n",
    "    def oneChar(self):\n",
    "        chunk = self.f.read(100)\n",
    "        while chunk:\n",
    "            for char in chunk:\n",
    "                yield char\n",
    "            chunk = self.f.read(100)\n",
    "\n",
    "    def one(self):\n",
    "        self.limitcnt = 0\n",
    "        self.t = \"\"\n",
    "        for c in self.oneChar():\n",
    "            if re.match(r\"\\s\", c):  # reflects the possible end of a token\n",
    "                if len(self.t) > 0:\n",
    "                    yield self.t\n",
    "                    if self.limitcnt >= self.maxReturn:\n",
    "                        break\n",
    "                    self.t = \"\"\n",
    "                    self.limitcnt += 1\n",
    "            else:\n",
    "                self.t += c\n",
    "\n",
    "        if len(self.t) > 0 and self.limitcnt < self.maxReturn:\n",
    "            yield self.t\n",
    "\n",
    "\n",
    "# 110_BC_a454\tIreland\n",
    "# 1150\tIreland\n",
    "y = tokens(\"my-links-ireland.srt.gz\")\n",
    "counter = {}\n",
    "maxval = -1\n",
    "maxkey = \"unknown\"\n",
    "for t in y.one():\n",
    "    if t in counter:\n",
    "        counter[t] += 1\n",
    "    else:\n",
    "        counter[t] = 1\n",
    "    if counter[t] > maxval:\n",
    "        maxval = counter[t]\n",
    "        maxkey = t\n",
    "\n",
    "print(\"Found %d unique tokens\" % len(counter))\n",
    "print(\"Most frequent is [%s] with count [%d]\" % (maxkey, maxval))"
   ]
  },
  {
   "cell_type": "markdown",
   "metadata": {
    "id": "kpw2RsbEM2LZ"
   },
   "source": []
  },
  {
   "cell_type": "code",
   "execution_count": 3,
   "metadata": {
    "colab": {
     "base_uri": "https://localhost:8080/"
    },
    "executionInfo": {
     "elapsed": 202,
     "status": "ok",
     "timestamp": 1724248240441,
     "user": {
      "displayName": "James Allan",
      "userId": "17545913788389779782"
     },
     "user_tz": 240
    },
    "id": "_xU8nv6-MbWq",
    "outputId": "ef0467c7-a07c-4e54-c277-401a99cee83a"
   },
   "outputs": [
    {
     "name": "stdout",
     "output_type": "stream",
     "text": [
      "1\n",
      "1\n",
      "0\n",
      "_\n",
      "B\n",
      "C\n"
     ]
    }
   ],
   "source": [
    "myt = tokens(\"my-links-ireland.srt.gz\")\n",
    "cnt = 0\n",
    "for c in myt.oneChar():\n",
    "    print(c)\n",
    "    cnt += 1\n",
    "    if cnt > 5:\n",
    "        break"
   ]
  },
  {
   "cell_type": "code",
   "execution_count": 25,
   "metadata": {
    "colab": {
     "base_uri": "https://localhost:8080/"
    },
    "executionInfo": {
     "elapsed": 291,
     "status": "ok",
     "timestamp": 1724264216567,
     "user": {
      "displayName": "James Allan",
      "userId": "17545913788389779782"
     },
     "user_tz": 240
    },
    "id": "3_HgoICgcxmk",
    "outputId": "7dc36c6d-84ea-4bbc-a3d4-8618a3016bbc"
   },
   "outputs": [
    {
     "name": "stdout",
     "output_type": "stream",
     "text": [
      "File my-links-ireland.srt.gz already exists, not downloading\n",
      "Line #0: 110_BC_a454\tIreland\n",
      "Line #1: 1150\tIreland\n",
      "Line #2: 1175_in_Ireland_3393\t1170_in_Ireland_ead0\n",
      "Line #3: 1175_in_Ireland_3393\t1171_in_Ireland_7dd9\n",
      "Line #4: 1175_in_Ireland_3393\t1172_in_Ireland_d9d6\n",
      "Line #5: 1175_in_Ireland_3393\t1174_in_Ireland_073d\n",
      "Line #6: 1175_in_Ireland_3393\t1175\n",
      "Line #7: 1175_in_Ireland_3393\t1176_in_Ireland_0fb6\n",
      "Line #8: 1175_in_Ireland_3393\t1177_in_Ireland_c107\n",
      "Line #9: 1175_in_Ireland_3393\t1180_in_Ireland_b2cc\n"
     ]
    }
   ],
   "source": [
    "import gzip\n",
    "import urllib.request\n",
    "from pathlib import Path\n",
    "\n",
    "filename = \"links-ireland.srt.gz\"\n",
    "webloc = \"https://cs.umass.edu/~allan/cs446-f22/\"\n",
    "\n",
    "localname = \"my-\" + filename\n",
    "localfile = Path(localname)\n",
    "if localfile.is_file():\n",
    "    print(\"File \" + localname + \" already exists, not downloading\")\n",
    "else:\n",
    "    print(\"Cannot find \" + localname + \" so downloading it\")\n",
    "    urllib.request.urlretrieve(webloc + filename, localname)\n",
    "    print(\"Done\")\n",
    "\n",
    "# +\n",
    "# Read a bit of the compressed file (opened in text mode since that's what we use)\n",
    "# -\n",
    "f = gzip.open(localname, \"rt\", encoding=\"utf-8\")\n",
    "for i in range(10):\n",
    "    line = f.readline()\n",
    "    if not line:\n",
    "        break\n",
    "    print(\"Line #%d: %s\" % (i, line.strip()))\n",
    "f.close()\n",
    "\n",
    "\n",
    "# file = f.read().decode('utf-8');\n",
    "\n",
    "# f2 = open( filename, \"w\" )\n",
    "# f2.write( \"A line of text\\n\" )\n",
    "# f2.write( \"Another line of text\\n\" )\n",
    "# f2.close()"
   ]
  },
  {
   "cell_type": "code",
   "execution_count": 5,
   "metadata": {
    "colab": {
     "base_uri": "https://localhost:8080/"
    },
    "executionInfo": {
     "elapsed": 259,
     "status": "ok",
     "timestamp": 1724266197241,
     "user": {
      "displayName": "James Allan",
      "userId": "17545913788389779782"
     },
     "user_tz": 240
    },
    "id": "OjFabt64Olbo",
    "outputId": "cd3b5c23-8692-47a8-b8b6-1850b53d9581"
   },
   "outputs": [
    {
     "name": "stdout",
     "output_type": "stream",
     "text": [
      "Match\n"
     ]
    }
   ],
   "source": [
    "import re\n",
    "\n",
    "m = re.match(r\"\\w\", \"aa\")\n",
    "if m:\n",
    "    print(\"Match\")\n",
    "else:\n",
    "    print(\"no match\")"
   ]
  },
  {
   "cell_type": "code",
   "execution_count": 6,
   "metadata": {
    "id": "qOK1erJ8OrZY"
   },
   "outputs": [],
   "source": [
    "def func2(a, b):\n",
    "    return a + b"
   ]
  },
  {
   "cell_type": "code",
   "execution_count": 24,
   "metadata": {},
   "outputs": [
    {
     "data": {
      "text/plain": [
       "['gzip', 're', 'urllib']"
      ]
     },
     "execution_count": 24,
     "metadata": {},
     "output_type": "execute_result"
    }
   ],
   "source": [
    "import sys\n",
    "import types\n",
    "\n",
    "\n",
    "def checker():\n",
    "    default_allowed_imports = [\n",
    "        \"io\",\n",
    "        \"pathlib\",\n",
    "        \"os\",\n",
    "        \"types\",\n",
    "        \"type\",\n",
    "        \"IPython\",\n",
    "        \"__builtin__\",\n",
    "        \"__builtins__\",\n",
    "    ]\n",
    "    default_allowed_imports.extend(sys.builtin_module_names)\n",
    "    default_allowed_imports.extend([])\n",
    "    globals_list = list(globals().items())\n",
    "    result = list()\n",
    "    imported_modules = []\n",
    "    # Check for functions and classes, and whether they are imported or defined in the notebook\n",
    "    for name, obj in globals_list:\n",
    "        if isinstance(obj, types.FunctionType) or isinstance(obj, type):\n",
    "            # Check if the object is defined in the notebook (i.e., module == \"__main__\")\n",
    "            mod = obj.__module__\n",
    "            if mod != \"__main__\":\n",
    "                imported_modules.append(mod)\n",
    "\n",
    "    # Check for imported modules by looking in sys.modules\n",
    "    imported_modules.extend(\n",
    "        [name for name, obj in globals_list if isinstance(obj, types.ModuleType)]\n",
    "    )\n",
    "    for mod in imported_modules:\n",
    "        if mod.split(\".\")[0] not in default_allowed_imports:\n",
    "            result.append(mod)\n",
    "    return result\n",
    "\n",
    "\n",
    "checker()"
   ]
  }
 ],
 "metadata": {
  "colab": {
   "authorship_tag": "ABX9TyM/AKnZ8qan81udekzKyJgh",
   "provenance": [],
   "toc_visible": true
  },
  "kernelspec": {
   "display_name": "Python 3.10.9 ('CS446')",
   "language": "python",
   "name": "python3"
  },
  "language_info": {
   "codemirror_mode": {
    "name": "ipython",
    "version": 3
   },
   "file_extension": ".py",
   "mimetype": "text/x-python",
   "name": "python",
   "nbconvert_exporter": "python",
   "pygments_lexer": "ipython3",
   "version": "3.10.9"
  },
  "vscode": {
   "interpreter": {
    "hash": "a717fe07876ff9f5273f3c801eaea9bc6c04b7514a25233082091cb6ec1934fe"
   }
  }
 },
 "nbformat": 4,
 "nbformat_minor": 0
}
